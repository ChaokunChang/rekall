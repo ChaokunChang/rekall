{
 "cells": [
  {
   "cell_type": "markdown",
   "metadata": {},
   "source": [
    "# The Rekall Auto-Tuner\n",
    "\n",
    "Rekall queries often have a lot of \"magic numbers\" that need to be tuned to get the best performance. The Rekall [tuner package](https://rekallpy.readthedocs.io/en/latest/source/rekall.tuner.html) provides a number of tuning algorithms that will help you select the best parameters for your query given some ground truth annotations.\n",
    "\n",
    "This notebook will help introduce you to the tuner package's API, and walk you through the tuning of a query for the parking space detection task.\n",
    "\n",
    "## The Tuner API\n",
    "\n",
    "Here's an example of what a call to the tuner API looks like:\n",
    "\n",
    "```Python\n",
    "from rekall.tuner import RandomTuner\n",
    "\n",
    "def eval_config(params):\n",
    "    # Run the Rekall query\n",
    "    query_results = query(params)\n",
    "\n",
    "    # Evaluate the results\n",
    "    score = evaluate(query_results)\n",
    "\n",
    "    return score\n",
    "\n",
    "search_space = {\n",
    "    'param1': [0.0, 1.0, 2.0],          # discrete\n",
    "    'param2': { 'range': (10.0, 20.0) } # linear range\n",
    "}\n",
    "\n",
    "tuner = RandomTuner(search_space, eval_config, budget = 50)\n",
    "\n",
    "best_score, best_config, score_history, execution_times, total_cost = tuner.tune()\n",
    "```\n",
    "\n",
    "You define a search space of parameters to search through, and give it a function that runs the Rekall query and returns a score to optimize (we assume you want to maximize the score).\n",
    "\n",
    "You pick a tuner (we picked `RandomTuner` in this example) and give it a budget, and the tuning algorithm will search through the search space and return the best score, as well as the best parameter configuration it found.\n",
    "\n",
    "Here's a list of tuners that we provide as of this writing (see the [documentation](https://rekallpy.readthedocs.io/en/latest/source/rekall.tuner.html) for details and for the most up-to-date list):\n",
    "* `RandomTuner`\n",
    "* `GridTuner`\n",
    "* `CoordinateDescentTuner`\n",
    "* `SuccessiveHalvingTuner`\n",
    "* `HyperbandTuner`\n",
    "\n",
    "Anecdotally, we have observed that running the `CoordinateDescentTuner` from a few random initializations, or running the `HyperbandTuner` with the `CoordinateDescentTuner` in the inner loop tend to work the best.\n",
    "\n",
    "## An example: tuning an empty parking space detection query\n",
    "\n",
    "Let's tune an empty parking space detection query as an example. We'll load up some ground truth annotations (some tips on collecting those at the bottom of this notebook), put together a simple query with some magic numbers, and see how well we can do.\n",
    "\n",
    "### Load Data"
   ]
  },
  {
   "cell_type": "code",
   "execution_count": 1,
   "metadata": {},
   "outputs": [
    {
     "name": "stderr",
     "output_type": "stream",
     "text": [
      "100%|██████████| 2/2 [00:00<00:00, 40.63it/s]\n"
     ]
    }
   ],
   "source": [
    "from rekall import Interval, IntervalSet, IntervalSetMapping, Bounds3D\n",
    "from rekall.predicates import *\n",
    "from vgrid import VGridSpec, VideoMetadata, VideoBlockFormat, FlatFormat, SpatialType_Bbox\n",
    "from vgrid_jupyter import VGridWidget\n",
    "import urllib3, requests, os\n",
    "import pickle\n",
    "from tqdm import tqdm\n",
    "from PIL import Image\n",
    "import matplotlib.pyplot as plt\n",
    "\n",
    "# Hack to disable warnings about olimar's certificate\n",
    "urllib3.disable_warnings()\n",
    "\n",
    "# Parking lot data\n",
    "VIDEO_COLLECTION_BASEURL = \"https://olimar.stanford.edu/hdd/parking_lot/user_study\"\n",
    "VIDEO_METADATA_FILENAME = 'metadata.json'\n",
    "\n",
    "# Load video file metadata\n",
    "video_metadata = [ VideoMetadata(v['filename'], id=v['id'], fps=v['fps'],\n",
    "                                 num_frames=v['num_frames'], width=v['width'],\n",
    "                                 height=v['height'])\n",
    "                  for v in requests.get(os.path.join(\n",
    "                      VIDEO_COLLECTION_BASEURL, VIDEO_METADATA_FILENAME),\n",
    "                                        verify=False).json() ]\n",
    "\n",
    "VIDEO_FOLDER = 'videos'\n",
    "BBOX_FOLDER = 'bboxes'\n",
    "GT_FOLDER = 'empty_spaces'\n",
    "\n",
    "dev_set = requests.get(\n",
    "    os.path.join(VIDEO_COLLECTION_BASEURL, 'dev.txt'), verify=False\n",
    ").content.decode('utf-8').strip().split('\\n')\n",
    "\n",
    "video_metadata_dev = [\n",
    "    vm\n",
    "    for vm in video_metadata if vm.path in dev_set\n",
    "]\n",
    "\n",
    "video_metadata = video_metadata_dev\n",
    "\n",
    "interval = 30\n",
    "bboxes = [\n",
    "    pickle.loads(requests.get(\n",
    "        os.path.join(\n",
    "            os.path.join(VIDEO_COLLECTION_BASEURL, BBOX_FOLDER),\n",
    "            os.path.join(vm.path[:-4], 'bboxes.pkl')\n",
    "        ),\n",
    "        verify=False\n",
    "    ).content)\n",
    "    for vm in (video_metadata)\n",
    "]\n",
    "bboxes_ism = IntervalSetMapping({\n",
    "    metadata.id: IntervalSet([\n",
    "        Interval(\n",
    "            Bounds3D(\n",
    "                t1 = 30 * i / metadata.fps,\n",
    "                t2 = 30 * (i + interval) / metadata.fps,\n",
    "                x1 = bbox[0] / metadata.width,\n",
    "                x2 = bbox[2] / metadata.width,\n",
    "                y1 = bbox[1] / metadata.height,\n",
    "                y2 = bbox[3] / metadata.height\n",
    "            ),\n",
    "            payload = { 'class': bbox[4], 'score': bbox[5] }\n",
    "        )\n",
    "        for i, frame in enumerate(bbox_frame_list) if (i % interval == 0)\n",
    "        for bbox in frame\n",
    "    ])\n",
    "    for bbox_frame_list, metadata in tqdm(\n",
    "        zip(bboxes, (video_metadata)),\n",
    "        total = len(bboxes))\n",
    "})\n",
    "\n",
    "def visualize_helper(box_list):\n",
    "    vgrid_spec = VGridSpec(\n",
    "        video_meta = video_metadata,\n",
    "        vis_format = VideoBlockFormat(imaps = [\n",
    "            (str(i), box)\n",
    "            for i, box in enumerate(box_list)\n",
    "        ]),\n",
    "        video_endpoint = os.path.join(VIDEO_COLLECTION_BASEURL, VIDEO_FOLDER)\n",
    "    )\n",
    "    return VGridWidget(vgrid_spec = vgrid_spec.to_json_compressed())"
   ]
  },
  {
   "cell_type": "markdown",
   "metadata": {},
   "source": [
    "### Load and Visualize Ground Truth\n",
    "\n",
    "Load up some ground truth annotations"
   ]
  },
  {
   "cell_type": "code",
   "execution_count": 2,
   "metadata": {},
   "outputs": [
    {
     "name": "stderr",
     "output_type": "stream",
     "text": [
      "100%|██████████| 2/2 [00:00<00:00, 491.05it/s]\n"
     ]
    }
   ],
   "source": [
    "GT_FOLDER = 'empty_spaces'\n",
    "\n",
    "empty_parking_spaces = [\n",
    "    pickle.loads(requests.get(\n",
    "        os.path.join(\n",
    "            os.path.join(VIDEO_COLLECTION_BASEURL, GT_FOLDER),\n",
    "            os.path.join(vm.path[:-4], 'gt.pkl')\n",
    "        ),\n",
    "        verify=False\n",
    "    ).content)\n",
    "    for vm in video_metadata\n",
    "]\n",
    "gt_ism = IntervalSetMapping({\n",
    "    metadata.id: IntervalSet([\n",
    "        Interval(\n",
    "            Bounds3D(\n",
    "                t1 = 30 * i / metadata.fps,\n",
    "                t2 = 30 * (i + interval) / metadata.fps,\n",
    "                x1 = bbox[0] / metadata.width + .01,\n",
    "                x2 = bbox[2] / metadata.width - .01,\n",
    "                y1 = bbox[1] / metadata.height + .01,\n",
    "                y2 = bbox[3] / metadata.height - .01\n",
    "            )\n",
    "        )\n",
    "        for i, frame in enumerate(space_frame_list) if (i % interval == 0)\n",
    "        for bbox in frame\n",
    "    ])\n",
    "    for space_frame_list, metadata in tqdm(\n",
    "        zip(empty_parking_spaces, video_metadata),\n",
    "        total = len(empty_parking_spaces))\n",
    "})"
   ]
  },
  {
   "cell_type": "markdown",
   "metadata": {},
   "source": [
    "### Parking Spaces Query\n",
    "\n",
    "Here's an example parking spaces query, with some magic numbers."
   ]
  },
  {
   "cell_type": "code",
   "execution_count": 3,
   "metadata": {},
   "outputs": [],
   "source": [
    "def parking_spaces_query(bboxes_ism, params={}):\n",
    "    magic_numbers = {\n",
    "        'EMPTY_SPOT_IOU': 0.25,\n",
    "        'COALESCE_IOU': 0.5,\n",
    "        'MIN_TIME': 30\n",
    "    }\n",
    "    \n",
    "    magic_numbers.update(params)\n",
    "    \n",
    "    EMPTY_SPOT_IOU = magic_numbers['EMPTY_SPOT_IOU']\n",
    "    COALESCE_IOU = magic_numbers['COALESCE_IOU']\n",
    "    MIN_TIME = magic_numbers['MIN_TIME']\n",
    "    \n",
    "    first_key = sorted(list(bboxes_ism.keys()))[0]\n",
    "    parking_spot_candidates = bboxes_ism[first_key].filter(\n",
    "        lambda intrvl: intrvl['t1'] == 0.0 and intrvl['payload']['class'] == 'car'\n",
    "    )\n",
    "    \n",
    "    video_durations = bboxes_ism.coalesce(\n",
    "        axis=('t1', 't2'),\n",
    "        bounds_merge_op=Bounds3D.span\n",
    "    )\n",
    "    \n",
    "    parking_spots = IntervalSetMapping({\n",
    "        key: IntervalSet([\n",
    "            Interval(Bounds3D(\n",
    "                t1 = t,\n",
    "                t2 = t + interval,\n",
    "                x1 = parking_spot['x1'],\n",
    "                x2 = parking_spot['x2'],\n",
    "                y1 = parking_spot['y1'],\n",
    "                y2 = parking_spot['y2']\n",
    "            ))\n",
    "            for parking_spot in parking_spot_candidates.get_intervals()\n",
    "            for t in range(0, int(video_durations[key].get_intervals()[0]['t2']), interval)\n",
    "        ])\n",
    "        for key in video_durations\n",
    "    })\n",
    "    \n",
    "    empty_parking_spots = parking_spots.minus(\n",
    "        bboxes_ism.filter(\n",
    "            lambda intrvl: intrvl['payload']['class'] in ['car', 'truck']\n",
    "        ),\n",
    "        predicate = and_pred(\n",
    "            Bounds3D.T(overlaps()),\n",
    "            Bounds3D.X(overlaps()),\n",
    "            Bounds3D.Y(overlaps()),\n",
    "            iou_at_least(EMPTY_SPOT_IOU)\n",
    "        ),\n",
    "        window=0.0\n",
    "    )\n",
    "    \n",
    "    # Get rid of predictions that are empty for less than four minutes\n",
    "    empty_spots_coalesced_and_filtered = empty_parking_spots.map(\n",
    "        lambda intrvl: Interval(intrvl['bounds'], [intrvl])\n",
    "    ).coalesce(\n",
    "        ('t1', 't2'),\n",
    "        bounds_merge_op = Bounds3D.span,\n",
    "        payload_merge_op = lambda p1, p2: p1 + p2,\n",
    "        predicate = iou_at_least(COALESCE_IOU)\n",
    "    ).filter_size(min_size=MIN_TIME).split(\n",
    "        lambda intrvl: IntervalSet(intrvl['payload'])\n",
    "    )\n",
    "    \n",
    "    return empty_spots_coalesced_and_filtered"
   ]
  },
  {
   "cell_type": "markdown",
   "metadata": {},
   "source": [
    "### Visualize Example Results\n",
    "\n",
    "(this will take a few seconds)"
   ]
  },
  {
   "cell_type": "code",
   "execution_count": 4,
   "metadata": {},
   "outputs": [],
   "source": [
    "parking_spaces_result = parking_spaces_query(bboxes_ism)"
   ]
  },
  {
   "cell_type": "code",
   "execution_count": 5,
   "metadata": {},
   "outputs": [
    {
     "data": {
      "application/vnd.jupyter.widget-view+json": {
       "model_id": "efa75a99b03b42808aba3879bb1d6b1d",
       "version_major": 2,
       "version_minor": 0
      },
      "text/plain": [
       "VGridWidget(vgrid_spec={'compressed': True, 'data': b'x\\x9c\\xdd\\x9d\\xcdn\\x1bI\\x12\\x84_\\xc5\\xd0yau\\xfdW\\xf9\\xb8…"
      ]
     },
     "metadata": {},
     "output_type": "display_data"
    }
   ],
   "source": [
    "visualize_helper([\n",
    "    parking_spaces_result,\n",
    "    gt_ism\n",
    "])"
   ]
  },
  {
   "cell_type": "markdown",
   "metadata": {},
   "source": [
    "### Computing Average Precision\n",
    "\n",
    "This is a function that computes average precision based on the ground truth (you may need to install scikit-learn in your environment to run this)."
   ]
  },
  {
   "cell_type": "code",
   "execution_count": 6,
   "metadata": {},
   "outputs": [],
   "source": [
    "from sklearn.metrics import average_precision_score\n",
    "import numpy as np\n",
    "\n",
    "def evaluate_preds(predictions, gt):\n",
    "    true_positives = predictions.filter_against(\n",
    "        gt,\n",
    "        predicate = and_pred(\n",
    "            Bounds3D.T(equal()),\n",
    "            iou_at_least(0.5)\n",
    "        ),\n",
    "        window = 0.0\n",
    "    )\n",
    "    false_positives = predictions.minus(\n",
    "        true_positives,\n",
    "        predicate = and_pred(\n",
    "            Bounds3D.T(equal()),\n",
    "            iou_at_least(0.5)\n",
    "        ),\n",
    "        window = 0.0\n",
    "    )\n",
    "    false_negatives = gt.minus(\n",
    "        predictions,\n",
    "        predicate = and_pred(\n",
    "            Bounds3D.T(equal()),\n",
    "            iou_at_least(0.5)\n",
    "        ),\n",
    "        window = 0.0\n",
    "    )\n",
    "    \n",
    "    tp_count = sum(true_positives.size().values())\n",
    "    fp_count = sum(false_positives.size().values())\n",
    "    fn_count = sum(false_negatives.size().values())\n",
    "    \n",
    "    y_true = np.concatenate([\n",
    "        np.ones(tp_count),\n",
    "        np.zeros(fp_count),\n",
    "        np.zeros(1000 * sum(gt.size().values())),\n",
    "        np.ones(fn_count),\n",
    "    ])\n",
    "    y_scores = np.concatenate([\n",
    "        np.ones(tp_count),\n",
    "        np.ones(fp_count),\n",
    "        np.ones(1000 * sum(gt.size().values())) - 0.1,\n",
    "        np.zeros(fn_count),\n",
    "    ])\n",
    "    \n",
    "    return average_precision_score(y_true, y_scores)"
   ]
  },
  {
   "cell_type": "markdown",
   "metadata": {},
   "source": [
    "Now let's run it (this will take a few seconds)."
   ]
  },
  {
   "cell_type": "code",
   "execution_count": 7,
   "metadata": {},
   "outputs": [
    {
     "data": {
      "text/plain": [
       "0.8620689655172413"
      ]
     },
     "execution_count": 7,
     "metadata": {},
     "output_type": "execute_result"
    }
   ],
   "source": [
    "evaluate_preds(parking_spaces_result, gt_ism)"
   ]
  },
  {
   "cell_type": "markdown",
   "metadata": {},
   "source": [
    "## Tuning the Query\n",
    "\n",
    "To tune the query, you need to:\n",
    "* Define a search space over query parameters\n",
    "* Define a single function that will take in a configuration from the search space (a set of values) and evaluate the query results with those parameters"
   ]
  },
  {
   "cell_type": "markdown",
   "metadata": {},
   "source": [
    "### Defining the search space\n",
    "\n",
    "Example of a search space:\n",
    "\n",
    "```Python\n",
    "search_space = {\n",
    "    'param1': [0.0, 1.0, 2.0],          # discrete\n",
    "    'param2': { 'range': (10.0, 20.0) } # linear range\n",
    "}\n",
    "```\n",
    "\n",
    "We'll define three continuous parameters for our query:"
   ]
  },
  {
   "cell_type": "code",
   "execution_count": 8,
   "metadata": {},
   "outputs": [],
   "source": [
    "search_space = {\n",
    "    'EMPTY_SPOT_IOU': { 'range': [0.1, 0.9] },\n",
    "    'COALESCE_IOU': { 'range': [0.1, 0.9] },\n",
    "    'MIN_TIME': { 'range': [10, 500] }\n",
    "}"
   ]
  },
  {
   "cell_type": "markdown",
   "metadata": {},
   "source": [
    "### Evaluating a configuration\n",
    "\n",
    "This function will take a config, run the query with those parameters, and return the average precision score. The config will be of this format:\n",
    "\n",
    "```Python\n",
    "{\n",
    "    'EMPTY_SPOT_IOU': value,\n",
    "    'COALESCE_IOU': value,\n",
    "    'MIN_TIME': value\n",
    "}\n",
    "```\n",
    "\n",
    "Luckily, we wrote our query to take exactly this kind of input in the params argument."
   ]
  },
  {
   "cell_type": "code",
   "execution_count": 9,
   "metadata": {},
   "outputs": [],
   "source": [
    "def evaluate_config(config):\n",
    "    query_results = parking_spaces_query(bboxes_ism, params = config)\n",
    "    \n",
    "    ap_score = evaluate_preds(query_results, gt_ism)\n",
    "    \n",
    "    return ap_score"
   ]
  },
  {
   "cell_type": "markdown",
   "metadata": {},
   "source": [
    "### Tuning our query!\n",
    "\n",
    "Let's tune our query with a few tuning algorithms!"
   ]
  },
  {
   "cell_type": "code",
   "execution_count": 10,
   "metadata": {},
   "outputs": [],
   "source": [
    "from rekall.tuner import *"
   ]
  },
  {
   "cell_type": "code",
   "execution_count": 11,
   "metadata": {},
   "outputs": [],
   "source": [
    "random_tuner = RandomTuner(search_space, evaluate_config, budget = 10)"
   ]
  },
  {
   "cell_type": "code",
   "execution_count": 12,
   "metadata": {},
   "outputs": [
    {
     "name": "stderr",
     "output_type": "stream",
     "text": [
      "100%|██████████| 10/10 [02:34<00:00, 15.45s/it]\n"
     ]
    }
   ],
   "source": [
    "(best_score, best_config, scores,\n",
    "     execution_times, cost) = random_tuner.tune()"
   ]
  },
  {
   "cell_type": "markdown",
   "metadata": {},
   "source": [
    "Let's see how the best configs improved during our tuning session:"
   ]
  },
  {
   "cell_type": "code",
   "execution_count": 13,
   "metadata": {},
   "outputs": [
    {
     "data": {
      "text/plain": [
       "[<matplotlib.lines.Line2D at 0x7f8a78394470>]"
      ]
     },
     "execution_count": 13,
     "metadata": {},
     "output_type": "execute_result"
    },
    {
     "data": {
      "image/png": "[encoded data removed]",
      "text/plain": [
       "<Figure size 432x288 with 1 Axes>"
      ]
     },
     "metadata": {
      "needs_background": "light"
     },
     "output_type": "display_data"
    }
   ],
   "source": [
    "import matplotlib.pyplot as plt\n",
    "\n",
    "def get_best_so_far(scores):\n",
    "    best_so_far = []\n",
    "    best = scores[0]\n",
    "    \n",
    "    for score in scores:\n",
    "        if score > best:\n",
    "            best = score\n",
    "        best_so_far.append(best)\n",
    "    \n",
    "    return best_so_far\n",
    "\n",
    "plt.plot(get_best_so_far(scores))"
   ]
  }
 ],
 "metadata": {
  "kernelspec": {
   "display_name": "Python 3",
   "language": "python",
   "name": "python3"
  },
  "language_info": {
   "codemirror_mode": {
    "name": "ipython",
    "version": 3
   },
   "file_extension": ".py",
   "mimetype": "text/x-python",
   "name": "python",
   "nbconvert_exporter": "python",
   "pygments_lexer": "ipython3",
   "version": "3.7.3"
  }
 },
 "nbformat": 4,
 "nbformat_minor": 2
}
