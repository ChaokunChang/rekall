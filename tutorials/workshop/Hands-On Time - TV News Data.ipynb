{
 "cells": [
  {
   "cell_type": "markdown",
   "metadata": {},
   "source": [
    "# Hands-On Time: Writing New Queries\n",
    "\n",
    "Now we've reached the hands-on portion of the workshop. In this section, you'll spend some time writing new queries.\n",
    "\n",
    "This notebook loads up our TV news subset, with a number of primitive annotations over them:\n",
    "* Face detections and identities (same as from the interview example)\n",
    "* Object detections out of Mask R-CNN (same as the parking spaces example)\n",
    "* Closed captions\n",
    "* Commercial segments\n",
    "\n",
    "Here are some suggested queries that you may want to write - pick one or two and get started!\n",
    "* Find commercials for drugs\n",
    "* Find political commercials\n",
    "* Find commercials about phones or carriers (Verizon, Sprint, etc)\n",
    "* Find instances of panels (multiple people brought on to talk about one subject)\n",
    "* Find segments about guns"
   ]
  },
  {
   "cell_type": "markdown",
   "metadata": {},
   "source": [
    "# Load Data"
   ]
  },
  {
   "cell_type": "code",
   "execution_count": 1,
   "metadata": {},
   "outputs": [
    {
     "name": "stderr",
     "output_type": "stream",
     "text": [
      "100%|██████████| 12619/12619 [00:00<00:00, 211550.06it/s]\n",
      "100%|██████████| 46632/46632 [00:00<00:00, 207607.60it/s]\n",
      "100%|██████████| 69076/69076 [00:00<00:00, 232810.55it/s]\n",
      "100%|██████████| 49/49 [00:00<00:00, 94405.56it/s]\n"
     ]
    }
   ],
   "source": [
    "from vgrid import VGridSpec, VideoMetadata, VideoBlockFormat, SpatialType_Bbox, SpatialType_Caption\n",
    "from vgrid_jupyter import VGridWidget\n",
    "from rekall import Interval, IntervalSet, IntervalSetMapping, Bounds3D\n",
    "from rekall.stdlib import ingest\n",
    "from rekall.predicates import *\n",
    "import urllib3, requests, os\n",
    "urllib3.disable_warnings()\n",
    "\n",
    "VIDEO_COLLECTION_BASEURL = \"http://olimar.stanford.edu/hdd/rekall_tutorials/workshop\"\n",
    "VIDEO_METADATA_FILENAME = \"data/video_meta.json\"\n",
    "VIDEO_ENDPOINT = \"http://olimar.stanford.edu/hdd/rekall_tutorials/workshop/videos\"\n",
    "\n",
    "req = requests.get(os.path.join(VIDEO_COLLECTION_BASEURL, VIDEO_METADATA_FILENAME), verify=False)\n",
    "video_collection = req.json()\n",
    "\n",
    "video_metadata = [\n",
    "    VideoMetadata(v[\"path\"], v[\"id\"], v[\"fps\"], int(v[\"num_frames\"]), v[\"width\"], v[\"height\"])\n",
    "    for v in video_collection\n",
    "]\n",
    "\n",
    "# Load the JSON file from the server\n",
    "FACES_JSON = \"data/faces.json\"\n",
    "req = requests.get(os.path.join(VIDEO_COLLECTION_BASEURL, FACES_JSON), verify=False)\n",
    "faces_json = req.json()\n",
    "\n",
    "# Load the face bounding boxes into Rekall\n",
    "faces_ism = ingest.ism_from_iterable_with_schema_bounds3D(\n",
    "    faces_json,\n",
    "    ingest.getter_accessor,\n",
    "    {\n",
    "        'key': 'video_id',\n",
    "        't1': 'frame_number', # NOTE that the JSON format has frame timestamps!\n",
    "        't2': 'frame_number',\n",
    "        'x1': 'x1',\n",
    "        'x2': 'x2',\n",
    "        'y1': 'y1',\n",
    "        'y2': 'y2'\n",
    "    },\n",
    "    with_payload = lambda json_obj: json_obj,\n",
    "    progress = True\n",
    ")\n",
    "\n",
    "# Convert from frames to seconds\n",
    "video_meta_by_id = {\n",
    "    vm.id: vm\n",
    "    for vm in video_metadata\n",
    "}\n",
    "\n",
    "faces_ism = faces_ism.map(\n",
    "    lambda face: Interval(\n",
    "        Bounds3D(\n",
    "            # We convert from frames to seconds, and account for temporal downsampling\n",
    "            face['t1'] / video_meta_by_id[face['payload']['video_id']].fps - 1.5,\n",
    "            face['t2'] / video_meta_by_id[face['payload']['video_id']].fps + 1.5,\n",
    "            face['x1'], face['x2'], face['y1'], face['y2']\n",
    "        ),\n",
    "        face['payload']\n",
    "    )\n",
    ")\n",
    "\n",
    "# Load objects\n",
    "OBJECTS_JSON = \"data/objects.json\"\n",
    "req = requests.get(os.path.join(VIDEO_COLLECTION_BASEURL, OBJECTS_JSON), verify=False)\n",
    "objects_json = req.json()\n",
    "\n",
    "# Load the face bounding boxes into Rekall\n",
    "objects_ism = ingest.ism_from_iterable_with_schema_bounds3D(\n",
    "    objects_json,\n",
    "    ingest.getter_accessor,\n",
    "    {\n",
    "        'key': 'video_id',\n",
    "        't1': 'frame_number', # NOTE that the JSON format has frame timestamps!\n",
    "        't2': 'frame_number',\n",
    "        'x1': 'x1',\n",
    "        'x2': 'x2',\n",
    "        'y1': 'y1',\n",
    "        'y2': 'y2'\n",
    "    },\n",
    "    with_payload = lambda json_obj: json_obj,\n",
    "    progress = True\n",
    ").map(\n",
    "    lambda obj: Interval(\n",
    "        Bounds3D(\n",
    "            # We convert from frames to seconds, and account for temporal downsampling\n",
    "            obj['t1'] / video_meta_by_id[obj['payload']['video_id']].fps - 1.5,\n",
    "            obj['t2'] / video_meta_by_id[obj['payload']['video_id']].fps + 1.5,\n",
    "            obj['x1'], obj['x2'], obj['y1'], obj['y2']\n",
    "        ),\n",
    "        obj['payload']\n",
    "    )\n",
    ")\n",
    "\n",
    "# Load captions\n",
    "CAPTIONS_JSON = \"data/captions.json\"\n",
    "req = requests.get(os.path.join(VIDEO_COLLECTION_BASEURL, CAPTIONS_JSON), verify=False)\n",
    "captions_json = req.json()\n",
    "\n",
    "captions_ism = ingest.ism_from_iterable_with_schema_bounds3D(\n",
    "    captions_json,\n",
    "    ingest.getter_accessor,\n",
    "    {\n",
    "        'key': 'video_id',\n",
    "        't1': 'start',\n",
    "        't2': 'end'\n",
    "    },\n",
    "    with_payload = lambda item: item,\n",
    "    progress = True\n",
    ").map(\n",
    "    lambda caption: Interval(caption['bounds'], caption['payload']['caption'])\n",
    ").coalesce(\n",
    "    ('t1', 't2'),\n",
    "    Bounds3D.span,\n",
    "    lambda p1, p2: p1 + ' ' + p2,\n",
    "    predicate = lambda i1, i2: '>>' not in i2['payload'],\n",
    "    epsilon = 1.0\n",
    ")\n",
    "\n",
    "def vgrid_captions(caption_ism):\n",
    "    from vgrid import SpatialType_Caption\n",
    "    \n",
    "    return caption_ism.map(\n",
    "        lambda caption: Interval(\n",
    "            caption['bounds'],\n",
    "            {\n",
    "                'spatial_type': SpatialType_Caption(caption['payload']),\n",
    "                'metadata': {}\n",
    "            }\n",
    "        )\n",
    "    )\n",
    "\n",
    "# Load commercial annotations\n",
    "COMMERCIAL_JSON = \"data/commercials.json\"\n",
    "req = requests.get(os.path.join(VIDEO_COLLECTION_BASEURL, COMMERCIAL_JSON), verify=False)\n",
    "commercials_json = req.json()\n",
    "\n",
    "commercials_ism = ingest.ism_from_iterable_with_schema_bounds3D(\n",
    "    commercials_json,\n",
    "    ingest.getter_accessor,\n",
    "    {\n",
    "        'key': 'video_id',\n",
    "        't1': 'start',\n",
    "        't2': 'end'\n",
    "    },\n",
    "    with_payload = lambda item: item,\n",
    "    progress = True\n",
    ")\n",
    "\n",
    "def generate_spec(isms):\n",
    "    return VGridSpec(\n",
    "        video_meta = video_metadata,\n",
    "        vis_format = VideoBlockFormat(imaps = [\n",
    "            (str(i), ism)\n",
    "            for i, ism in enumerate(isms)\n",
    "        ]),\n",
    "        video_endpoint = VIDEO_ENDPOINT\n",
    "    ).to_json_compressed()"
   ]
  },
  {
   "cell_type": "markdown",
   "metadata": {},
   "source": [
    "# Primitives\n",
    "\n",
    "The above code has generated a number of Rekall objects that you can play around with:\n",
    "* `faces_ism`: one Interval for each face\n",
    "* `objects_ism`: one Interval for each object\n",
    "* `captions_ism`: one Interval for each line in the captions (lines delineated by news files)\n",
    "* `commercials_ism`: one Interval for each commercial break\n",
    "* `black_frames_ism`: one Interval for each black frame\n",
    "\n",
    "Let's inspect the payloads of some of these sets and visualize them.\n",
    "\n",
    "### Faces and objects"
   ]
  },
  {
   "cell_type": "code",
   "execution_count": 2,
   "metadata": {},
   "outputs": [],
   "source": [
    "keys = sorted(list(faces_ism.keys()))"
   ]
  },
  {
   "cell_type": "code",
   "execution_count": 3,
   "metadata": {},
   "outputs": [
    {
     "data": {
      "text/plain": [
       "{'video_id': 17458,\n",
       " 'x1': 0.532769680023193,\n",
       " 'y1': 0.080485574901104,\n",
       " 'x2': 0.723754584789276,\n",
       " 'y2': 0.450597137212753,\n",
       " 'score': 1.0,\n",
       " 'frame_number': 716,\n",
       " 'gender': 'M',\n",
       " 'gender_score': 1.0,\n",
       " 'identity': 'tony popovic',\n",
       " 'identity_score': 0.74}"
      ]
     },
     "execution_count": 3,
     "metadata": {},
     "output_type": "execute_result"
    }
   ],
   "source": [
    "faces_ism[keys[0]].get_intervals()[0]['payload']"
   ]
  },
  {
   "cell_type": "code",
   "execution_count": 4,
   "metadata": {},
   "outputs": [
    {
     "data": {
      "text/plain": [
       "{'x1': 0.08963130712509156,\n",
       " 'y1': 0.40898751152886287,\n",
       " 'x2': 0.4166428565979004,\n",
       " 'y2': 0.9777291191948785,\n",
       " 'class': 'person',\n",
       " 'score': 0.9880803823471069,\n",
       " 'frame_number': 0,\n",
       " 'video_id': 17458}"
      ]
     },
     "execution_count": 4,
     "metadata": {},
     "output_type": "execute_result"
    }
   ],
   "source": [
    "objects_ism[keys[0]].get_intervals()[0]['payload']"
   ]
  },
  {
   "cell_type": "code",
   "execution_count": 5,
   "metadata": {},
   "outputs": [
    {
     "data": {
      "application/vnd.jupyter.widget-view+json": {
       "model_id": "193378d0abf147fdb29410fcf1c964ae",
       "version_major": 2,
       "version_minor": 0
      },
      "text/plain": [
       "VGridWidget(vgrid_spec={'compressed': True, 'data': b'x\\x9c\\xcc\\xbd\\xcd\\x8edA\\x92\\x9d\\xf7*\\xc4\\xac\\x85\\x86\\xff…"
      ]
     },
     "metadata": {},
     "output_type": "display_data"
    }
   ],
   "source": [
    "VGridWidget(vgrid_spec = generate_spec([\n",
    "    faces_ism,\n",
    "    objects_ism.map(lambda interval: Interval(\n",
    "        interval['bounds'],\n",
    "        { 'spatial_type': SpatialType_Bbox(text=interval['payload']['class']) }\n",
    "    ))\n",
    "]))"
   ]
  },
  {
   "cell_type": "markdown",
   "metadata": {},
   "source": [
    "### Captions\n",
    "\n",
    "Notice the spatial type!"
   ]
  },
  {
   "cell_type": "code",
   "execution_count": 6,
   "metadata": {},
   "outputs": [
    {
     "data": {
      "text/plain": [
       "'>> HAPPENING NOW IN THE NEWSROOM .'"
      ]
     },
     "execution_count": 6,
     "metadata": {},
     "output_type": "execute_result"
    }
   ],
   "source": [
    "captions_ism[keys[0]].get_intervals()[0]['payload']"
   ]
  },
  {
   "cell_type": "code",
   "execution_count": 7,
   "metadata": {},
   "outputs": [
    {
     "data": {
      "application/vnd.jupyter.widget-view+json": {
       "model_id": "9f78503c481a4ecc98b0a136e50c1dc4",
       "version_major": 2,
       "version_minor": 0
      },
      "text/plain": [
       "VGridWidget(vgrid_spec={'compressed': True, 'data': b'x\\x9c\\xec\\xbd[\\x93\\xe2\\xc8\\x92.\\xfaWd\\xebe^0\\x19\\xe8\\x82…"
      ]
     },
     "metadata": {},
     "output_type": "display_data"
    }
   ],
   "source": [
    "VGridWidget(vgrid_spec = generate_spec([\n",
    "    captions_ism.map(lambda interval: Interval(\n",
    "        interval['bounds'],\n",
    "        { 'spatial_type': SpatialType_Caption(text=interval['payload']) }\n",
    "    ))\n",
    "]))"
   ]
  },
  {
   "cell_type": "markdown",
   "metadata": {},
   "source": [
    "### Commercials\n",
    "\n",
    "This one doesn't have anything interesting in the payload, so let's just look at the Interval:"
   ]
  },
  {
   "cell_type": "code",
   "execution_count": 8,
   "metadata": {},
   "outputs": [
    {
     "data": {
      "text/plain": [
       "<Interval t1:0.0 t2:42.0 x1:0.0 x2:1.0 y1:0.0 y2:1.0 payload:{'video_id': 17458, 'start': 0.0, 'end': 42.0}>"
      ]
     },
     "execution_count": 8,
     "metadata": {},
     "output_type": "execute_result"
    }
   ],
   "source": [
    "commercials_ism[keys[0]].get_intervals()[0]"
   ]
  },
  {
   "cell_type": "code",
   "execution_count": 9,
   "metadata": {},
   "outputs": [
    {
     "data": {
      "application/vnd.jupyter.widget-view+json": {
       "model_id": "6952c94e46314616b561be690fd4e532",
       "version_major": 2,
       "version_minor": 0
      },
      "text/plain": [
       "VGridWidget(vgrid_spec={'compressed': True, 'data': b'x\\x9c\\xcd\\x9a\\xdfO\\xe38\\x10\\xc7\\xff\\x95U\\x9fO\\xd4\\x1e\\xf…"
      ]
     },
     "metadata": {},
     "output_type": "display_data"
    }
   ],
   "source": [
    "VGridWidget(vgrid_spec = generate_spec([commercials_ism]))"
   ]
  },
  {
   "cell_type": "markdown",
   "metadata": {},
   "source": [
    "# Visualize them all at once\n",
    "\n",
    "And of course, we can visualize all these datasets at the same time!"
   ]
  },
  {
   "cell_type": "code",
   "execution_count": 10,
   "metadata": {},
   "outputs": [
    {
     "data": {
      "application/vnd.jupyter.widget-view+json": {
       "model_id": "3a831974b7184691904258460b654109",
       "version_major": 2,
       "version_minor": 0
      },
      "text/plain": [
       "VGridWidget(vgrid_spec={'compressed': True, 'data': b'x\\x9c\\xcc\\xbd\\xcd\\x8edA\\x92\\x9d\\xf7*\\xc4\\xac\\x85\\x86\\xff…"
      ]
     },
     "metadata": {},
     "output_type": "display_data"
    }
   ],
   "source": [
    "VGridWidget(vgrid_spec = generate_spec([\n",
    "    faces_ism,\n",
    "    objects_ism.map(lambda interval: Interval(\n",
    "        interval['bounds'],\n",
    "        { 'spatial_type': SpatialType_Bbox(text=interval['payload']['class']) }\n",
    "    )),\n",
    "    captions_ism.map(lambda interval: Interval(\n",
    "        interval['bounds'],\n",
    "        { 'spatial_type': SpatialType_Caption(text=interval['payload']) }\n",
    "    )),\n",
    "    commercials_ism\n",
    "]))"
   ]
  },
  {
   "cell_type": "markdown",
   "metadata": {},
   "source": [
    "# Start Writing!\n",
    "\n",
    "Go ahead and start writing queries! Once you've decided on what you want the query for, we recommend clicking through the videos and trying to find some examples of them - or writing some simple exploratory queries to narrow down your search space (similar to how we started the interviews query by searching for every time Bernie Sanders appeared on screen).\n",
    "\n",
    "And don't hesitate to ask us if you need help or advice!"
   ]
  },
  {
   "cell_type": "code",
   "execution_count": null,
   "metadata": {},
   "outputs": [],
   "source": [
    "# Your Rekall queries go here!"
   ]
  }
 ],
 "metadata": {
  "kernelspec": {
   "display_name": "Python 3",
   "language": "python",
   "name": "python3"
  },
  "language_info": {
   "codemirror_mode": {
    "name": "ipython",
    "version": 3
   },
   "file_extension": ".py",
   "mimetype": "text/x-python",
   "name": "python",
   "nbconvert_exporter": "python",
   "pygments_lexer": "ipython3",
   "version": "3.7.3"
  }
 },
 "nbformat": 4,
 "nbformat_minor": 2
}
