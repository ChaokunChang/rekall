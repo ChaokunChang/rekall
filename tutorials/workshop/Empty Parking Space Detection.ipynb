{
 "cells": [
  {
   "cell_type": "markdown",
   "metadata": {},
   "source": [
    "# Your Next Query: Empty Parking Space Detection\n",
    "\n",
    "Now let's try another query - empty parking space detection. You'll use Rekall to detect empty parking spaces in a fixed-angle camera feed of a parking lot -- using nothing more than the outputs of an off-the-shelf object detector!\n",
    "\n",
    "We'll start by importing Rekall and loading up the data:"
   ]
  },
  {
   "cell_type": "code",
   "execution_count": null,
   "metadata": {},
   "outputs": [],
   "source": [
    "from rekall import Interval, IntervalSet, IntervalSetMapping, Bounds3D\n",
    "from rekall.predicates import *\n",
    "from vgrid import VGridSpec, VideoMetadata, VideoBlockFormat, FlatFormat, SpatialType_Bbox\n",
    "from vgrid_jupyter import VGridWidget\n",
    "import urllib3, requests, os\n",
    "import pickle\n",
    "from tqdm import tqdm\n",
    "from PIL import Image\n",
    "import matplotlib.pyplot as plt\n",
    "\n",
    "# Hack to disable warnings about olimar's certificate\n",
    "urllib3.disable_warnings()\n",
    "\n",
    "# Parking lot data\n",
    "VIDEO_COLLECTION_BASEURL = \"https://olimar.stanford.edu/hdd/parking_lot/user_study\"\n",
    "VIDEO_METADATA_FILENAME = 'metadata.json'\n",
    "\n",
    "# Load video file metadata\n",
    "video_metadata = [ VideoMetadata(v['filename'], id=v['id'], fps=v['fps'],\n",
    "                                 num_frames=v['num_frames'], width=v['width'],\n",
    "                                 height=v['height'])\n",
    "                  for v in requests.get(os.path.join(\n",
    "                      VIDEO_COLLECTION_BASEURL, VIDEO_METADATA_FILENAME),\n",
    "                                        verify=False).json() ]\n",
    "\n",
    "VIDEO_FOLDER = 'videos'\n",
    "BBOX_FOLDER = 'bboxes'\n",
    "GT_FOLDER = 'empty_spaces'\n",
    "\n",
    "dev_set = requests.get(\n",
    "    os.path.join(VIDEO_COLLECTION_BASEURL, 'dev.txt'), verify=False\n",
    ").content.decode('utf-8').strip().split('\\n')\n",
    "\n",
    "video_metadata_dev = [\n",
    "    vm\n",
    "    for vm in video_metadata if vm.path in dev_set\n",
    "]\n",
    "\n",
    "video_metadata = video_metadata_dev\n",
    "\n",
    "interval = 30\n",
    "bboxes = [\n",
    "    pickle.loads(requests.get(\n",
    "        os.path.join(\n",
    "            os.path.join(VIDEO_COLLECTION_BASEURL, BBOX_FOLDER),\n",
    "            os.path.join(vm.path[:-4], 'bboxes.pkl')\n",
    "        ),\n",
    "        verify=False\n",
    "    ).content)\n",
    "    for vm in (video_metadata)\n",
    "]\n",
    "bboxes_ism = IntervalSetMapping({\n",
    "    metadata.id: IntervalSet([\n",
    "        Interval(\n",
    "            Bounds3D(\n",
    "                t1 = 30 * i / metadata.fps,\n",
    "                t2 = 30 * (i + interval) / metadata.fps,\n",
    "                x1 = bbox[0] / metadata.width,\n",
    "                x2 = bbox[2] / metadata.width,\n",
    "                y1 = bbox[1] / metadata.height,\n",
    "                y2 = bbox[3] / metadata.height\n",
    "            ),\n",
    "            payload = { 'class': bbox[4], 'score': bbox[5] }\n",
    "        )\n",
    "        for i, frame in enumerate(bbox_frame_list) if (i % interval == 0)\n",
    "        for bbox in frame\n",
    "    ])\n",
    "    for bbox_frame_list, metadata in tqdm(\n",
    "        zip(bboxes, (video_metadata)),\n",
    "        total = len(bboxes))\n",
    "})\n",
    "\n",
    "def visualize_helper(box_list):\n",
    "    vgrid_spec = VGridSpec(\n",
    "        video_meta = video_metadata,\n",
    "        vis_format = VideoBlockFormat(imaps = [\n",
    "            (str(i), box)\n",
    "            for i, box in enumerate(box_list)\n",
    "        ]),\n",
    "        video_endpoint = os.path.join(VIDEO_COLLECTION_BASEURL, VIDEO_FOLDER)\n",
    "    )\n",
    "    return VGridWidget(vgrid_spec = vgrid_spec.to_json_compressed())"
   ]
  },
  {
   "cell_type": "markdown",
   "metadata": {},
   "source": [
    "Let's visualize the data (drawing the class of each object underneath its bounding box using `SpatialType_Bbox`):"
   ]
  },
  {
   "cell_type": "code",
   "execution_count": null,
   "metadata": {},
   "outputs": [],
   "source": [
    "visualize_helper([bboxes_ism.map(\n",
    "    lambda interval: Interval(\n",
    "        interval['bounds'],\n",
    "        { 'spatial_type': SpatialType_Bbox(text=interval['payload']['class']) }\n",
    "    )\n",
    ")])"
   ]
  },
  {
   "cell_type": "markdown",
   "metadata": {},
   "source": [
    "If you click on the second video, you can see that there are sometimes empty parking spaces in this parking lot. Our goal is to detect these by creating an `IntervalSetMapping` object that contains all the empty parking spaces in these videos."
   ]
  },
  {
   "cell_type": "markdown",
   "metadata": {},
   "source": [
    "# Task: detect all empty parking spaces\n",
    "\n",
    "Your goal is to write a Rekall program to detect all empty parking spaces (visualized in the second timeline above).\n",
    "\n",
    "We're starting with a `IntervalSetMapping` object, `bboxes_ism`, that contains detections from Mask R-CNN. The Intervals contain 3D bounds, and the payloads contain the class and the class score:"
   ]
  },
  {
   "cell_type": "code",
   "execution_count": null,
   "metadata": {},
   "outputs": [],
   "source": [
    "bboxes_ism[0].get_intervals()[0]"
   ]
  },
  {
   "cell_type": "markdown",
   "metadata": {},
   "source": [
    "The bounding boxes are sampled every thirty seconds (hence why the Interval above has time bounds of 0 to 30), and so are the ground truth annotations.\n",
    "\n",
    "The goal is to write a query that detects all the **empty parking spaces** in our videos.\n",
    "\n",
    "This task is inspired by [this Medium blog post](https://medium.com/@ageitgey/snagging-parking-spaces-with-mask-r-cnn-and-python-955f2231c400):\n",
    "* They use an off-the-shelf object detector to detect cars (like what we have in `bboxes`)\n",
    "* They take a timestamp where all the parking spots are full, and use car detections to get parking spots\n",
    "* Then empty parking spots are just parking spots where there are no cars\n",
    "\n",
    "We'll be following these steps in this tutorial!"
   ]
  },
  {
   "cell_type": "markdown",
   "metadata": {},
   "source": [
    "# Step 1: Detect Parking Spaces\n",
    "\n",
    "Before we detect empty parking spaces, we first need to detect parking spaces! Luckily, every parking space is filled at the beginning of the first video. We can use the **car detections** at the beginning of this video to construct an `IntervalSetMapping` object corresponding to parking spaces in both videos.\n",
    "\n",
    "Let's begin by looking at the video ID's of our videos:"
   ]
  },
  {
   "cell_type": "code",
   "execution_count": null,
   "metadata": {},
   "outputs": [],
   "source": [
    "bboxes_ism.keys()"
   ]
  },
  {
   "cell_type": "markdown",
   "metadata": {},
   "source": [
    "Videos are sorted by ID, so we know that the video on the left is video 0.\n",
    "\n",
    "Let's start by getting all the car detections at the beginning of the video. We can reference the `IntervalSet` corresponding to video `0` as follows:\n",
    "\n",
    "```Python\n",
    "bboxes_ism[0]\n",
    "```\n",
    "\n",
    "And filter down to the car detections at the beginning of video `0` like this:\n",
    "\n",
    "```Python\n",
    "parking_spot_candidates = bboxes_ism[0].filter(\n",
    "    lambda intrvl: intrvl['t1'] == 0.0 and intrvl['payload']['class'] == 'car'\n",
    ")\n",
    "```\n",
    "\n",
    "Try it yourself below!"
   ]
  },
  {
   "cell_type": "code",
   "execution_count": null,
   "metadata": {},
   "outputs": [],
   "source": [
    "# Copy the code segment above\n"
   ]
  },
  {
   "cell_type": "markdown",
   "metadata": {},
   "source": [
    "`parking_spot_candidates` contains all the car detections at time `0` of video `0`. Next, we want to create `parking_spots`, an `IntervalSetMapping` object that represents all the parking spots (empty or not) in both of our videos.\n",
    "\n",
    "We'll need to create a new `IntervalSetMapping` object called `parking_spots` that contains:\n",
    "* Two keys (`0` and `2`), each of which points to an `IntervalSet` that contains parking spots\n",
    "* Each `IntervalSet` should have `Intervals` for each parking spot in the parking lot\n",
    "* Since our object detections are sampled once every 30 seconds, we can sample the parking spot objects once every thirty seconds as well\n",
    "\n",
    "Go ahead and give this a try now! Solution is below."
   ]
  },
  {
   "cell_type": "code",
   "execution_count": null,
   "metadata": {},
   "outputs": [],
   "source": [
    "# Construct parking spots!\n"
   ]
  },
  {
   "cell_type": "markdown",
   "metadata": {},
   "source": [
    "Exercise solution:\n",
    "\n",
    "```Python\n",
    "# Construct parking spots!\n",
    "video_lengths = {\n",
    "    key: bboxes_ism[key].get_intervals()[-1]['t2']\n",
    "    for key in bboxes_ism.keys()\n",
    "}\n",
    "\n",
    "parking_spots = IntervalSetMapping({\n",
    "    key: IntervalSet([\n",
    "        Interval(Bounds3D(\n",
    "            t1 = t,\n",
    "            t2 = t + 30, # Make the interval last 30 seconds\n",
    "            x1 = parking_spot['x1'],\n",
    "            x2 = parking_spot['x2'],\n",
    "            y1 = parking_spot['y1'],\n",
    "            y2 = parking_spot['y2']\n",
    "        ))\n",
    "        for parking_spot in parking_spot_candidates.get_intervals() # For each parking spot\n",
    "        for t in range(0, int(video_lengths[key]), 30)\n",
    "    ])\n",
    "    for key in bboxes_ism.keys()\n",
    "})\n",
    "```\n",
    "\n",
    "Let's take a moment to visualize `parking_spots` and make sure it looks right -- you should have bounding boxes over each parking spot for the duration of the video."
   ]
  },
  {
   "cell_type": "code",
   "execution_count": null,
   "metadata": {},
   "outputs": [],
   "source": [
    "visualize_helper([parking_spots])"
   ]
  },
  {
   "cell_type": "markdown",
   "metadata": {},
   "source": [
    "# Step 2: Detect Empty Parking Spaces using `minus`\n",
    "\n",
    "Now we have `parking_spots`, which represents all the parking spots in our video feeds, and we want to detect the empty parking spots.\n",
    "\n",
    "This is a great use of Rekall's [`minus`](https://rekallpy.readthedocs.io/en/latest/index.html#rekall.IntervalSet.minus) function:\n",
    "![simple_minus.png](https://olimar.stanford.edu/hdd/rekall_tutorials/simple_minus.png)\n",
    "\n",
    "We can use the `minus` function to find all the instances where a parking spot does not have sufficient overlap with a car:\n",
    "\n",
    "```Python\n",
    "cars = bboxes_ism.filter(\n",
    "    lambda intrvl: intrvl['payload']['class'] == 'car'\n",
    ")\n",
    "\n",
    "empty_parking_spots = parking_spots.minus(\n",
    "    cars,\n",
    "    predicate = and_pred(\n",
    "        Bounds3D.T(overlaps()),\n",
    "        Bounds3D.X(overlaps()),\n",
    "        Bounds3D.Y(overlaps()),\n",
    "        iou_at_least(0.25)\n",
    "    ),\n",
    "    window=0.0,\n",
    "    progress_bar=True\n",
    ")\n",
    "```\n",
    "\n",
    "This code takes any parking spot detection that overlaps with a detected car Interval with [IOU](https://www.pyimagesearch.com/2016/11/07/intersection-over-union-iou-for-object-detection/) at least 0.5, and removes it from the set. The remaining Intervals are empty parking spots.\n",
    "\n",
    "Try it yourself below (it'll take about ten seconds)!"
   ]
  },
  {
   "cell_type": "code",
   "execution_count": null,
   "metadata": {},
   "outputs": [],
   "source": [
    "# Fill in the code segments above\n"
   ]
  },
  {
   "cell_type": "markdown",
   "metadata": {},
   "source": [
    "And let's visualize the results:"
   ]
  },
  {
   "cell_type": "code",
   "execution_count": null,
   "metadata": {},
   "outputs": [],
   "source": [
    "visualize_helper([empty_parking_spots])"
   ]
  },
  {
   "cell_type": "markdown",
   "metadata": {},
   "source": [
    "# Step 3: Remove False Positives with `coalesce` and `filter_size`\n",
    "\n",
    "So this is pretty good! But we have some false positives due to errors in the object detector; sometimes the cars are not detected. This results in parking spots that appear for 30 seconds at a time before disappearing. Let's remove some of these false positives by removing any parking spots that appear for less than a few minutes!\n",
    "\n",
    "This is a great chance to use Rekall's [`coalesce`](https://rekallpy.readthedocs.io/en/latest/index.html#rekall.IntervalSet.coalesce) function:\n",
    "![simple_coalesce.png](https://olimar.stanford.edu/hdd/rekall_tutorials/simple_coalesce.png)\n",
    "\n",
    "We'll use the `coalesce` function to merge all parking spots that are adjacent in time and overlapping in space:\n",
    "\n",
    "```Python\n",
    "empty_parking_spots_merged = empty_parking_spots.coalesce(\n",
    "    ('t1', 't2'),\n",
    "    bounds_merge_op = Bounds3D.span,\n",
    "    predicate = iou_at_least(0.5)\n",
    ")\n",
    "```\n",
    "\n",
    "Let's break down what's happening here:\n",
    "* `coalesce` recursively merges all overlapping or touching Intervals along some axis (in this case, time).\n",
    "* We merge the bounds by taking the span of the existing Intervals and the new Interval.\n",
    "* We add in a predicate that we should only merge in new intervals if the IOU is at least 0.5.\n",
    "* At the end, we have a Interval that covers the entire contiguous spacetime volume of an empty parking spot.\n",
    "\n",
    "Then we can filter the resulting set by length to remove any parking spots that appear for less than four minutes:\n",
    "```Python\n",
    "empty_parking_spots_filtered = empty_parking_spots_merged.filter_size(\n",
    "    min_size = 60 * 4\n",
    ")\n",
    "```\n",
    "\n",
    "Try it yourself below!"
   ]
  },
  {
   "cell_type": "code",
   "execution_count": null,
   "metadata": {},
   "outputs": [],
   "source": [
    "# Fill in the two code snippets above\n"
   ]
  },
  {
   "cell_type": "markdown",
   "metadata": {},
   "source": [
    "This turns out to do pretty well! We have completely removed all the false detections from the first video (hence why it doesn't appear anymore), and we've removed many of the false detections from the second video."
   ]
  },
  {
   "cell_type": "markdown",
   "metadata": {},
   "source": [
    "# Step 4: Continue Debugging On Your Own\n",
    "\n",
    "Now it's your turn! Can you modify the above code to get rid of even more false positives? Here's a few hints:\n",
    "* We've fixed some issues with objects not being detected using the `coalesce` and `filter_size` functions, but what other issues might the object detector have?\n",
    "* In particular, are there cases where a car could be mis-classified as something else? Take a look at the initial visualization of objects to get an idea.\n",
    "* Try visualizing object classes like people, cars, and trucks to see what could be going on...\n",
    "* This task was discussed in the [Rekall tech report](http://www.danfu.org/projects/rekall-tech-report/) (with pseudocode), so take a look at that for our solution!"
   ]
  },
  {
   "cell_type": "code",
   "execution_count": null,
   "metadata": {},
   "outputs": [],
   "source": [
    "# Play around on your own!\n"
   ]
  }
 ],
 "metadata": {
  "kernelspec": {
   "display_name": "Python 3",
   "language": "python",
   "name": "python3"
  },
  "language_info": {
   "codemirror_mode": {
    "name": "ipython",
    "version": 3
   },
   "file_extension": ".py",
   "mimetype": "text/x-python",
   "name": "python",
   "nbconvert_exporter": "python",
   "pygments_lexer": "ipython3",
   "version": "3.7.3"
  }
 },
 "nbformat": 4,
 "nbformat_minor": 2
}
