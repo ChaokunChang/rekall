{
 "cells": [
  {
   "cell_type": "markdown",
   "metadata": {},
   "source": [
    "# Annotating Ground Truth\n",
    "\n",
    "In this notebook, we'll walk through a simple example of how you can annotate ground truth data for temporal events using VGrid. We'll look for drug commercials in TV News videos."
   ]
  },
  {
   "cell_type": "markdown",
   "metadata": {},
   "source": [
    "## Load Data\n",
    "\n",
    "We'll start by loading up the TV news videos and commercial breaks."
   ]
  },
  {
   "cell_type": "code",
   "execution_count": 1,
   "metadata": {},
   "outputs": [
    {
     "name": "stderr",
     "output_type": "stream",
     "text": [
      "100%|██████████| 49/49 [00:00<00:00, 180916.28it/s]\n"
     ]
    }
   ],
   "source": [
    "from vgrid import VGridSpec, VideoMetadata, VideoBlockFormat, SpatialType_Bbox, SpatialType_Caption\n",
    "from vgrid_jupyter import VGridWidget\n",
    "from rekall import Interval, IntervalSet, IntervalSetMapping, Bounds3D\n",
    "from rekall.stdlib import ingest\n",
    "from rekall.predicates import *\n",
    "import urllib3, requests, os\n",
    "urllib3.disable_warnings()\n",
    "\n",
    "VIDEO_COLLECTION_BASEURL = \"http://olimar.stanford.edu/hdd/rekall_tutorials/workshop\"\n",
    "VIDEO_METADATA_FILENAME = \"data/video_meta.json\"\n",
    "VIDEO_ENDPOINT = \"http://olimar.stanford.edu/hdd/rekall_tutorials/workshop/videos\"\n",
    "\n",
    "req = requests.get(os.path.join(VIDEO_COLLECTION_BASEURL, VIDEO_METADATA_FILENAME), verify=False)\n",
    "video_collection = req.json()\n",
    "\n",
    "video_metadata = [\n",
    "    VideoMetadata(v[\"path\"], v[\"id\"], v[\"fps\"], int(v[\"num_frames\"]), v[\"width\"], v[\"height\"])\n",
    "    for v in video_collection\n",
    "]\n",
    "\n",
    "# Load commercial annotations\n",
    "COMMERCIAL_JSON = \"data/commercials.json\"\n",
    "req = requests.get(os.path.join(VIDEO_COLLECTION_BASEURL, COMMERCIAL_JSON), verify=False)\n",
    "commercials_json = req.json()\n",
    "\n",
    "commercials_ism = ingest.ism_from_iterable_with_schema_bounds3D(\n",
    "    commercials_json,\n",
    "    ingest.getter_accessor,\n",
    "    {\n",
    "        'key': 'video_id',\n",
    "        't1': 'start',\n",
    "        't2': 'end'\n",
    "    },\n",
    "    with_payload = lambda item: item,\n",
    "    progress = True\n",
    ")\n",
    "\n",
    "def generate_spec(isms):\n",
    "    return VGridSpec(\n",
    "        video_meta = video_metadata,\n",
    "        vis_format = VideoBlockFormat(imaps = [\n",
    "            (str(i), ism)\n",
    "            for i, ism in enumerate(isms)\n",
    "        ]),\n",
    "        video_endpoint = VIDEO_ENDPOINT\n",
    "    ).to_json_compressed()"
   ]
  },
  {
   "cell_type": "markdown",
   "metadata": {},
   "source": [
    "## Visualize the data\n",
    "\n",
    "Next, we'll visualize the data. But notice that we don't use the exact same code as we've been doing so far - instead, we'll get a pointer to the VGridWidget first before displaying it.\n",
    "\n",
    "Go ahead and run the next cell, and then come back to the annotation instructions below.\n",
    "\n",
    "### Annotating Data\n",
    "Once you've run the next cell, you should see the Vgrid interface below. Click on one of the videos to expand it, and start looking for a drug commercial.\n",
    "\n",
    "**Once you've found a drug commercial, hover over the timeline and press `i` to indicate the beginning of a segment. Play the video until the end of the segment (or just click through until you find the end of the segment), and press `i` again to indicate the end of that segment. You should see your annotation appear on the timeline.**\n",
    "\n",
    "### Saving Annotations\n",
    "\n",
    "Once you've found a few annotations, go ahead to the next section to learn how to save them."
   ]
  },
  {
   "cell_type": "code",
   "execution_count": 4,
   "metadata": {},
   "outputs": [
    {
     "data": {
      "application/vnd.jupyter.widget-view+json": {
       "model_id": "d0174c2d32ab4424b2ed870b79b1adc4",
       "version_major": 2,
       "version_minor": 0
      },
      "text/plain": [
       "VGridWidget(vgrid_spec={'compressed': True, 'data': b'x\\x9c\\xcd\\x9a\\xdfO\\xe38\\x10\\xc7\\xff\\x95U\\x9fO\\xd4\\x1e\\xf…"
      ]
     },
     "metadata": {},
     "output_type": "display_data"
    }
   ],
   "source": [
    "widget = VGridWidget(vgrid_spec = generate_spec([commercials_ism]))\n",
    "widget"
   ]
  },
  {
   "cell_type": "markdown",
   "metadata": {},
   "source": [
    "## Saving Annotations\n",
    "\n",
    "When you make annotations, they're reflected in of `widget.label_state` (until you re-run the cell or refresh the page). Take a look at it below:"
   ]
  },
  {
   "cell_type": "code",
   "execution_count": 5,
   "metadata": {},
   "outputs": [
    {
     "data": {
      "text/plain": [
       "{'blocks_selected': {},\n",
       " 'block_labels': {'0': {'captions_selected': [],\n",
       "   'new_intervals': [{'bounds': {'t1': 1931.73003,\n",
       "      't2': 2016.2642103586563,\n",
       "      'bbox': {'x1': 0, 'x2': 1, 'y1': 0, 'y2': 1}},\n",
       "     'data': {'spatial_type': {'args': {}}, 'metadata': {}}}]},\n",
       "  '1': {'captions_selected': [], 'new_intervals': []},\n",
       "  '2': {'captions_selected': [], 'new_intervals': []},\n",
       "  '3': {'captions_selected': [], 'new_intervals': []},\n",
       "  '4': {'captions_selected': [], 'new_intervals': []},\n",
       "  '5': {'captions_selected': [], 'new_intervals': []},\n",
       "  '6': {'captions_selected': [], 'new_intervals': []},\n",
       "  '7': {'captions_selected': [], 'new_intervals': []},\n",
       "  '8': {'captions_selected': [], 'new_intervals': []}}}"
      ]
     },
     "execution_count": 5,
     "metadata": {},
     "output_type": "execute_result"
    }
   ],
   "source": [
    "widget.label_state"
   ]
  },
  {
   "cell_type": "code",
   "execution_count": 6,
   "metadata": {},
   "outputs": [
    {
     "data": {
      "text/plain": [
       "{'0': {'captions_selected': [],\n",
       "  'new_intervals': [{'bounds': {'t1': 1931.73003,\n",
       "     't2': 2021.721341,\n",
       "     'bbox': {'x1': 0, 'x2': 1, 'y1': 0, 'y2': 1}},\n",
       "    'data': {'spatial_type': {'args': {}}, 'metadata': {}}}]},\n",
       " '1': {'captions_selected': [], 'new_intervals': []},\n",
       " '2': {'captions_selected': [], 'new_intervals': []},\n",
       " '3': {'captions_selected': [], 'new_intervals': []},\n",
       " '4': {'captions_selected': [], 'new_intervals': []},\n",
       " '5': {'captions_selected': [], 'new_intervals': []},\n",
       " '6': {'captions_selected': [], 'new_intervals': []},\n",
       " '7': {'captions_selected': [], 'new_intervals': []},\n",
       " '8': {'captions_selected': [], 'new_intervals': []}}"
      ]
     },
     "execution_count": 6,
     "metadata": {},
     "output_type": "execute_result"
    }
   ],
   "source": [
    "widget.label_state['block_labels']"
   ]
  },
  {
   "cell_type": "markdown",
   "metadata": {},
   "source": [
    "`widget.label_state['block_labels']` stores new intervals for each Vgrid block. You'll need to re-associate with block with its video ID, and then store the results somewhere. Here's an example of doing just that:"
   ]
  },
  {
   "cell_type": "code",
   "execution_count": 11,
   "metadata": {},
   "outputs": [
    {
     "data": {
      "text/plain": [
       "{17458: [{'t1': 1931.73003, 't2': 2021.721341}],\n",
       " 19882: [],\n",
       " 34359: [],\n",
       " 34642: [],\n",
       " 37170: [],\n",
       " 38275: [],\n",
       " 42756: [],\n",
       " 52945: [],\n",
       " 55711: []}"
      ]
     },
     "execution_count": 11,
     "metadata": {},
     "output_type": "execute_result"
    }
   ],
   "source": [
    "# Get the video IDs from commercials_ism. Vgrid always displays videos sorted by the key.\n",
    "video_ids = sorted(list(commercials_ism.keys()))\n",
    "\n",
    "# Store the temporal extents of new Intervals.\n",
    "drug_commercial_annotations = {}\n",
    "for block_num, video_id in zip(widget.label_state['block_labels'], video_ids):\n",
    "    block_labels = widget.label_state['block_labels'][block_num]\n",
    "    \n",
    "    drug_commercial_annotations[video_id] = [\n",
    "        { 't1': interval['bounds']['t1'], 't2': interval['bounds']['t2'] }\n",
    "        for interval in block_labels['new_intervals']\n",
    "    ]\n",
    "drug_commercial_annotations"
   ]
  },
  {
   "cell_type": "code",
   "execution_count": 12,
   "metadata": {},
   "outputs": [],
   "source": [
    "import json\n",
    "\n",
    "# Save them to disk\n",
    "with open('drug_commercial_annotations.json', 'w') as f:\n",
    "    json.dump(drug_commercial_annotations, f)"
   ]
  }
 ],
 "metadata": {
  "kernelspec": {
   "display_name": "Python 3",
   "language": "python",
   "name": "python3"
  },
  "language_info": {
   "codemirror_mode": {
    "name": "ipython",
    "version": 3
   },
   "file_extension": ".py",
   "mimetype": "text/x-python",
   "name": "python",
   "nbconvert_exporter": "python",
   "pygments_lexer": "ipython3",
   "version": "3.7.3"
  }
 },
 "nbformat": 4,
 "nbformat_minor": 2
}
