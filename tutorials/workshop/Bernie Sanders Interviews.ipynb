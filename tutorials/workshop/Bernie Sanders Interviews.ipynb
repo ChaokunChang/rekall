{
 "cells": [
  {
   "cell_type": "markdown",
   "metadata": {},
   "source": [
    "# Your First (Complex) Rekall Query: Bernie Sanders Interviews\n",
    "\n",
    "Now that you've loaded in some data and written a first simple query, let's kick it up a notch and write a query to detect all the interviews with Bernie Sanders in a small dataset. If you've read the [Rekall tech report](https://arxiv.org/abs/1910.02993), you'll already know what the end query looks like, but in this notebook we'll walk you through the whole process to arrive at that query.\n",
    "\n",
    "We'll also take this query as an opportunity to teach you common concepts and operations that will be useful to you as you write new Rekall queries!\n",
    "\n",
    "It may be useful to have a reference to the documentation as you go through this tutorial. Check it out [here](https://rekallpy.readthedocs.io/en/latest/)!"
   ]
  },
  {
   "cell_type": "markdown",
   "metadata": {},
   "source": [
    "## Load up the data\n",
    "\n",
    "First, let's load up data, like we did in the data loading tutorial. Run the next cell to load up face detections and visualize them."
   ]
  },
  {
   "cell_type": "code",
   "execution_count": 1,
   "metadata": {},
   "outputs": [
    {
     "data": {
      "application/vnd.jupyter.widget-view+json": {
       "model_id": "ffa79732e3f947acaccb195cf77138f7",
       "version_major": 2,
       "version_minor": 0
      },
      "text/plain": [
       "VGridWidget(vgrid_spec={'compressed': True, 'data': b'x\\x9c\\xcc\\xbd\\xcd\\x8edA\\x92\\x9d\\xf7*\\xc4\\xac\\x85\\x86\\xff…"
      ]
     },
     "metadata": {},
     "output_type": "display_data"
    }
   ],
   "source": [
    "from vgrid import VGridSpec, VideoMetadata, VideoBlockFormat\n",
    "from vgrid_jupyter import VGridWidget\n",
    "from rekall import Interval, IntervalSet, IntervalSetMapping, Bounds3D\n",
    "from rekall.stdlib import ingest\n",
    "from rekall.predicates import *\n",
    "import urllib3, requests, os\n",
    "urllib3.disable_warnings()\n",
    "\n",
    "VIDEO_COLLECTION_BASEURL = \"http://olimar.stanford.edu/hdd/rekall_tutorials/workshop\"\n",
    "VIDEO_METADATA_FILENAME = \"data/video_meta.json\"\n",
    "VIDEO_ENDPOINT = \"http://olimar.stanford.edu/hdd/rekall_tutorials/workshop/videos\"\n",
    "\n",
    "req = requests.get(os.path.join(VIDEO_COLLECTION_BASEURL, VIDEO_METADATA_FILENAME), verify=False)\n",
    "video_collection = req.json()\n",
    "\n",
    "video_metadata = [\n",
    "    VideoMetadata(v[\"path\"], v[\"id\"], v[\"fps\"], int(v[\"num_frames\"]), v[\"width\"], v[\"height\"])\n",
    "    for v in video_collection\n",
    "]\n",
    "\n",
    "# Load the JSON file from the server\n",
    "FACES_JSON = \"data/faces.json\"\n",
    "req = requests.get(os.path.join(VIDEO_COLLECTION_BASEURL, FACES_JSON), verify=False)\n",
    "faces_json = req.json()\n",
    "\n",
    "# Load the face bounding boxes into Rekall\n",
    "faces_ism = ingest.ism_from_iterable_with_schema_bounds3D(\n",
    "    faces_json,\n",
    "    ingest.getter_accessor,\n",
    "    {\n",
    "        'key': 'video_id',\n",
    "        't1': 'frame_number', # NOTE that the JSON format has frame timestamps!\n",
    "        't2': 'frame_number',\n",
    "        'x1': 'x1',\n",
    "        'x2': 'x2',\n",
    "        'y1': 'y1',\n",
    "        'y2': 'y2'\n",
    "    },\n",
    "    with_payload = lambda json_obj: json_obj\n",
    ")\n",
    "\n",
    "# Convert from frames to seconds\n",
    "video_meta_by_id = {\n",
    "    vm.id: vm\n",
    "    for vm in video_metadata\n",
    "}\n",
    "\n",
    "faces_ism = faces_ism.map(\n",
    "    lambda face: Interval(\n",
    "        Bounds3D(\n",
    "            # We convert from frames to seconds, and account for temporal downsampling\n",
    "            face['t1'] / video_meta_by_id[face['payload']['video_id']].fps - 1.5,\n",
    "            face['t2'] / video_meta_by_id[face['payload']['video_id']].fps + 1.5,\n",
    "            face['x1'], face['x2'], face['y1'], face['y2']\n",
    "        ),\n",
    "        face['payload']\n",
    "    )\n",
    ")\n",
    "\n",
    "# Display in VGrid\n",
    "vgrid_spec = VGridSpec(\n",
    "    video_meta = video_metadata,\n",
    "    vis_format = VideoBlockFormat(imaps = [\n",
    "        ('faces', faces_ism)\n",
    "    ]),\n",
    "    video_endpoint = VIDEO_ENDPOINT\n",
    ")\n",
    "VGridWidget(vgrid_spec = vgrid_spec.to_json_compressed())"
   ]
  },
  {
   "cell_type": "markdown",
   "metadata": {},
   "source": [
    "# Exploratory Queries\n",
    "\n",
    "The first step in writing a good query is often to play around with the data a little bit - write down some simple queries, and click around to see what the data look like.\n",
    "\n",
    "If we're looking for interviews with Bernie Sanders, a decent place to start would be to look at every time that Bernie Sanders appears:"
   ]
  },
  {
   "cell_type": "code",
   "execution_count": 2,
   "metadata": {},
   "outputs": [
    {
     "data": {
      "application/vnd.jupyter.widget-view+json": {
       "model_id": "cbf722c4fc44484cb80fdb6705ebd299",
       "version_major": 2,
       "version_minor": 0
      },
      "text/plain": [
       "VGridWidget(vgrid_spec={'compressed': True, 'data': b'x\\x9c\\xcc\\xbd\\xcd\\x8edA\\x92\\x9d\\xf7*\\xc4\\xac\\x85\\x86\\xff…"
      ]
     },
     "metadata": {},
     "output_type": "display_data"
    }
   ],
   "source": [
    "# Filter for all the faces where the identity is 'bernie sanders'\n",
    "bernie = faces_ism.filter(\n",
    "    lambda interval: interval['payload']['identity'] == 'bernie sanders'\n",
    ")\n",
    "\n",
    "# Display in VGrid\n",
    "vgrid_spec = VGridSpec(\n",
    "    video_meta = video_metadata,\n",
    "    vis_format = VideoBlockFormat(imaps = [\n",
    "        ('all_faces', faces_ism),\n",
    "        ('bernie', bernie)\n",
    "    ]),\n",
    "    video_endpoint = VIDEO_ENDPOINT\n",
    ")\n",
    "VGridWidget(vgrid_spec = vgrid_spec.to_json_compressed())"
   ]
  },
  {
   "cell_type": "markdown",
   "metadata": {},
   "source": [
    "Let's take a quick look at that `filter` function to make sure that we know what's going on:\n",
    "\n",
    "```Python\n",
    "bernie = faces_ism.filter(\n",
    "    lambda interval: interval['payload']['identity'] == 'bernie sanders'\n",
    ")\n",
    "```\n",
    "\n",
    "`faces_ism` contains one `Interval` for every face bounding box. Each Interval has `bounds` (x1, x2, y1, y2, t1, t2), and a `payload`. The filter function takes every `Interval` in `faces_ism` and runs it through a function that returns `True` if the identity in the payload is equal to `\"bernie sanders\"`.\n",
    "\n",
    "While we're at it, we may as well write a function to get rid of some of that boiler-plate visualization code:"
   ]
  },
  {
   "cell_type": "code",
   "execution_count": 3,
   "metadata": {},
   "outputs": [],
   "source": [
    "def generate_spec(isms):\n",
    "    return VGridSpec(\n",
    "        video_meta = video_metadata,\n",
    "        vis_format = VideoBlockFormat(imaps = [\n",
    "            (str(i), ism)\n",
    "            for i, ism in enumerate(isms)\n",
    "        ]),\n",
    "        video_endpoint = VIDEO_ENDPOINT\n",
    "    ).to_json_compressed()"
   ]
  },
  {
   "cell_type": "code",
   "execution_count": 4,
   "metadata": {},
   "outputs": [
    {
     "data": {
      "application/vnd.jupyter.widget-view+json": {
       "model_id": "7e4cc6fba32340b68c7d72f79c0dbf63",
       "version_major": 2,
       "version_minor": 0
      },
      "text/plain": [
       "VGridWidget(vgrid_spec={'compressed': True, 'data': b'x\\x9c\\xcc\\xbd\\xcd\\x8edA\\x92\\x9d\\xf7*\\xc4\\xac\\x85\\x86\\xff…"
      ]
     },
     "metadata": {},
     "output_type": "display_data"
    }
   ],
   "source": [
    "VGridWidget(vgrid_spec = generate_spec([faces_ism, bernie]))"
   ]
  },
  {
   "cell_type": "markdown",
   "metadata": {},
   "source": [
    "# Bernie with Host\n",
    "\n",
    "There appear to be four interviews in our dataset. Let's see if we can write a query to just return the interviews.\n",
    "\n",
    "If you click through some of the interviews, you'll notice that during interviews, the guest is often shown split-screen with the host:\n",
    "\n",
    "![](https://olimar.stanford.edu/hdd/rekall_tutorials/workshop/bernie_jake.png)\n",
    "\n",
    "We can use Rekall's `join` function to find all the times when two events happen at the same time:\n",
    "\n",
    "![](https://olimar.stanford.edu/hdd/rekall_tutorials/simple_join.png)\n",
    "\n",
    "Go ahead and run the cell below to a) find all the faces that have been classified as Jake Tapper, and b) find all the times when Bernie Sanders and Jake Tapper are on screen together."
   ]
  },
  {
   "cell_type": "code",
   "execution_count": 5,
   "metadata": {},
   "outputs": [],
   "source": [
    "jake = faces_ism.filter(\n",
    "    lambda interval: interval['payload']['identity'] == 'jake tapper'\n",
    ")\n",
    "\n",
    "bernie_with_jake = bernie.join(\n",
    "    jake,\n",
    "    predicate = Bounds3D.T(overlaps()),\n",
    "    merge_op = lambda bernie_interval, jake_interval: Interval(\n",
    "        Bounds3D.span(bernie_interval['bounds'], jake_interval['bounds'])\n",
    "    )\n",
    ")"
   ]
  },
  {
   "cell_type": "code",
   "execution_count": 6,
   "metadata": {},
   "outputs": [
    {
     "data": {
      "application/vnd.jupyter.widget-view+json": {
       "model_id": "4a15e6f33d3d4340a11075ac8ba6f9e7",
       "version_major": 2,
       "version_minor": 0
      },
      "text/plain": [
       "VGridWidget(vgrid_spec={'compressed': True, 'data': b'x\\x9c\\xcc\\xbd\\xcd\\x8edA\\x92\\x9d\\xf7*\\xc4\\xac\\x85\\x86\\xff…"
      ]
     },
     "metadata": {},
     "output_type": "display_data"
    }
   ],
   "source": [
    "VGridWidget(vgrid_spec = generate_spec([faces_ism, bernie, jake, bernie_with_jake]))"
   ]
  },
  {
   "cell_type": "markdown",
   "metadata": {},
   "source": [
    "Let's take a look at that join function to understand what's going on:\n",
    "\n",
    "```Python\n",
    "bernie_with_jake = bernie.join(\n",
    "    jake,\n",
    "    predicate = Bounds3D.T(overlaps()),\n",
    "    merge_op = lambda bernie_interval, jake_interval: Interval(\n",
    "        Bounds3D.span(bernie_interval['bounds'], jake_interval['bounds'])\n",
    "    )\n",
    ")\n",
    "```\n",
    "\n",
    "Conceptually, the `join` function is computing a cross product between every `Interval` in `bernie` and `jake`, filtering the pairs by a `predicate`, and merging the pairs back into a single `Interval` with a `merge_op`.\n",
    "\n",
    "The predicate that we've written is filtering pairs of `Interval`s to those that overlap in time (`Bounds3D.T(overlaps())`), and we are merging the intervals together to cover the `span` of both intervals in the pair. That's why the teal boxes now cover both faces."
   ]
  },
  {
   "cell_type": "markdown",
   "metadata": {},
   "source": [
    "# Don't Forget Rachel Maddow!\n",
    "\n",
    "You'll notice that the teal segments are no longer covering the interview with Rachel Maddow - since we wrote the query ourselves in a completely interpretable way, we know exactly why this is happening. Let's include Rachel Maddow in our join as well."
   ]
  },
  {
   "cell_type": "code",
   "execution_count": 7,
   "metadata": {},
   "outputs": [],
   "source": [
    "rachel = faces_ism.filter(\n",
    "    lambda interval: interval['payload']['identity'] == 'rachel maddow'\n",
    ")\n",
    "\n",
    "hosts = rachel.union(jake)\n",
    "\n",
    "bernie_with_host = bernie.join(\n",
    "    hosts,\n",
    "    predicate = Bounds3D.T(overlaps()),\n",
    "    merge_op = lambda bernie_interval, host_interval: Interval(\n",
    "        Bounds3D.span(bernie_interval['bounds'], host_interval['bounds'])\n",
    "    ),\n",
    "    window = 0\n",
    ")"
   ]
  },
  {
   "cell_type": "code",
   "execution_count": 8,
   "metadata": {},
   "outputs": [
    {
     "data": {
      "application/vnd.jupyter.widget-view+json": {
       "model_id": "b5459e6860634a14b7f303c348d0163f",
       "version_major": 2,
       "version_minor": 0
      },
      "text/plain": [
       "VGridWidget(vgrid_spec={'compressed': True, 'data': b'x\\x9c\\xcc\\xbd\\xcd\\x8edA\\x92\\x9d\\xf7*\\xc4\\xac\\x85\\x86\\xff…"
      ]
     },
     "metadata": {},
     "output_type": "display_data"
    }
   ],
   "source": [
    "VGridWidget(vgrid_spec = generate_spec([faces_ism, bernie, hosts, bernie_with_host]))"
   ]
  },
  {
   "cell_type": "markdown",
   "metadata": {},
   "source": [
    "### Join Optimizations: The `window` parameter\n",
    "\n",
    "Notice this time, we also passed in an extra parameter to the `join` function: `window = 0`. We're taking advantage of the fact that no pair of Intervals is going to pass the predicate if they don't overlap in time.\n",
    "\n",
    "**The `window` parameter is an optimization over the join cross product ignores any pair of Intervals that differ in time by more than `window`.** This allows us to compute joins much more efficiently (which is particularly useful for large video collections)."
   ]
  },
  {
   "cell_type": "markdown",
   "metadata": {},
   "source": [
    "# Coalesce: Merge Nearby or Overlapping Intervals\n",
    "\n",
    "Take a look at some of the teal intervals. You'll notice that there appear to be overlapping bounding boxes - and in fact, there are! That's because, at any given time, each face bounding box just barely overlaps in time with the end of the face bounding box before it, and the face bounding box after it. We can use the `coalesce` function to smooth these boxes together into continuous segments:\n",
    "\n",
    "![](https://olimar.stanford.edu/hdd/rekall_tutorials/simple_coalesce.png)"
   ]
  },
  {
   "cell_type": "code",
   "execution_count": 9,
   "metadata": {},
   "outputs": [],
   "source": [
    "bernie_with_host_segments = bernie_with_host.coalesce(\n",
    "    ('t1', 't2'),\n",
    "    bounds_merge_op = Bounds3D.span\n",
    ")"
   ]
  },
  {
   "cell_type": "code",
   "execution_count": 10,
   "metadata": {},
   "outputs": [
    {
     "data": {
      "application/vnd.jupyter.widget-view+json": {
       "model_id": "7413a95e16164256b2b677d46fa4d038",
       "version_major": 2,
       "version_minor": 0
      },
      "text/plain": [
       "VGridWidget(vgrid_spec={'compressed': True, 'data': b'x\\x9c\\xcc\\xbd\\xcd\\x8edA\\x92\\x9d\\xf7*\\xc4\\xac\\x85\\x86\\xff…"
      ]
     },
     "metadata": {},
     "output_type": "display_data"
    }
   ],
   "source": [
    "VGridWidget(vgrid_spec = generate_spec([\n",
    "    faces_ism, bernie, hosts, bernie_with_host_segments]))"
   ]
  },
  {
   "cell_type": "markdown",
   "metadata": {},
   "source": [
    "# Minus: Subtracting Two Sets\n",
    "\n",
    "Let's get rid of some of those pesky gaps in the teal sets. Interviews tend to cut between the host and the guest together, and the guest alone, so let's use a `minus` operation to find all the times when Bernie Sanders appears without one of the hosts:\n",
    "\n",
    "![](https://olimar.stanford.edu/hdd/rekall_tutorials/simple_minus.png)"
   ]
  },
  {
   "cell_type": "code",
   "execution_count": 11,
   "metadata": {},
   "outputs": [],
   "source": [
    "bernie_alone = bernie.minus(\n",
    "    bernie_with_host\n",
    ")"
   ]
  },
  {
   "cell_type": "code",
   "execution_count": 12,
   "metadata": {},
   "outputs": [
    {
     "data": {
      "application/vnd.jupyter.widget-view+json": {
       "model_id": "2309b5f3ec78475ba3c7dd76d0e50d3a",
       "version_major": 2,
       "version_minor": 0
      },
      "text/plain": [
       "VGridWidget(vgrid_spec={'compressed': True, 'data': b'x\\x9c\\xcc\\xbd\\xcd\\x8edA\\x92\\x9d\\xf7*\\xc4\\xac\\x85\\x86\\xff…"
      ]
     },
     "metadata": {},
     "output_type": "display_data"
    }
   ],
   "source": [
    "VGridWidget(vgrid_spec = generate_spec([\n",
    "    faces_ism, bernie, hosts, bernie_with_host_segments, bernie_alone]))"
   ]
  },
  {
   "cell_type": "markdown",
   "metadata": {},
   "source": [
    "# The final query\n",
    "\n",
    "Now let's put this all together and write our final query. Notice that the interviews tend to cut between segments Bernie with a host, and Bernie alone. Let's capture this temporal pattern by looking for times when Bernie is with a host for some amount of time, and then he's alone for some amount of time (or vice versa)!\n",
    "\n",
    "We'll first use `coalesce` to create segments when Bernie is alone:"
   ]
  },
  {
   "cell_type": "code",
   "execution_count": 13,
   "metadata": {},
   "outputs": [],
   "source": [
    "bernie_alone_segments = bernie_alone.coalesce(\n",
    "    ('t1', 't2'),\n",
    "    bounds_merge_op = Bounds3D.span\n",
    ")"
   ]
  },
  {
   "cell_type": "markdown",
   "metadata": {},
   "source": [
    "And then we'll use a `join` operation to get all the times when Bernie is alone, before or after Bernie is with a host (notice that we look with a five-second window this time):"
   ]
  },
  {
   "cell_type": "code",
   "execution_count": 14,
   "metadata": {},
   "outputs": [],
   "source": [
    "interview_candidates = bernie_with_host_segments.join(\n",
    "    bernie_alone_segments,\n",
    "    predicate = or_pred(\n",
    "        before(max_dist=5),\n",
    "        after(max_dist=5)\n",
    "    ),\n",
    "    merge_op = lambda bernie_interval, host_interval: Interval(\n",
    "        Bounds3D.span(bernie_interval['bounds'], host_interval['bounds'])\n",
    "    ),\n",
    "    window = 5\n",
    ")"
   ]
  },
  {
   "cell_type": "code",
   "execution_count": 15,
   "metadata": {},
   "outputs": [
    {
     "data": {
      "application/vnd.jupyter.widget-view+json": {
       "model_id": "f7d52f5556444f348c25cf00c46c1701",
       "version_major": 2,
       "version_minor": 0
      },
      "text/plain": [
       "VGridWidget(vgrid_spec={'compressed': True, 'data': b'x\\x9c\\xcc\\xbd\\xcd\\x8edA\\x92\\x9d\\xf7*\\xc4\\xac\\x85\\x86\\xff…"
      ]
     },
     "metadata": {},
     "output_type": "display_data"
    }
   ],
   "source": [
    "VGridWidget(vgrid_spec = generate_spec([\n",
    "    faces_ism, bernie, hosts, bernie_with_host_segments, bernie_alone_segments, \n",
    "    interview_candidates]))"
   ]
  },
  {
   "cell_type": "markdown",
   "metadata": {},
   "source": [
    "There are some small gaps in the yellow segments (and they're overlapping), so let's smooth over some of those gaps: with `coalesce`."
   ]
  },
  {
   "cell_type": "code",
   "execution_count": 16,
   "metadata": {},
   "outputs": [],
   "source": [
    "interview_segments = interview_candidates.coalesce(\n",
    "    ('t1', 't2'),\n",
    "    bounds_merge_op = Bounds3D.span,\n",
    "    epsilon = 15\n",
    ")"
   ]
  },
  {
   "cell_type": "code",
   "execution_count": 17,
   "metadata": {},
   "outputs": [
    {
     "data": {
      "application/vnd.jupyter.widget-view+json": {
       "model_id": "2ba9d861fb5a410dabc02c1f3bf310d8",
       "version_major": 2,
       "version_minor": 0
      },
      "text/plain": [
       "VGridWidget(vgrid_spec={'compressed': True, 'data': b'x\\x9c\\xcc\\xbd\\xcd\\x8edA\\x92\\x9d\\xf7*\\xc4\\xac\\x85\\x86\\xff…"
      ]
     },
     "metadata": {},
     "output_type": "display_data"
    }
   ],
   "source": [
    "VGridWidget(vgrid_spec = generate_spec([\n",
    "    faces_ism, bernie, hosts, bernie_with_host_segments, bernie_alone_segments, \n",
    "    interview_segments]))"
   ]
  },
  {
   "cell_type": "markdown",
   "metadata": {},
   "source": [
    "The `epsilon` parameter will merge segments across small gaps in time (in this case, 15 seconds).\n",
    "\n",
    "Finally, we can use a `filter_size` function (just syntactic sugar over `filter`) to get rid of the remaining short segments."
   ]
  },
  {
   "cell_type": "code",
   "execution_count": 18,
   "metadata": {},
   "outputs": [],
   "source": [
    "interviews = interview_segments.filter_size(min_size=45)"
   ]
  },
  {
   "cell_type": "code",
   "execution_count": 19,
   "metadata": {},
   "outputs": [
    {
     "data": {
      "application/vnd.jupyter.widget-view+json": {
       "model_id": "5088146c73384f2f8df031a73170f277",
       "version_major": 2,
       "version_minor": 0
      },
      "text/plain": [
       "VGridWidget(vgrid_spec={'compressed': True, 'data': b'x\\x9c\\xcc\\xbd\\xcd\\x8edA\\x92\\x9d\\xf7*\\xc4\\xac\\x85\\x86\\xff…"
      ]
     },
     "metadata": {},
     "output_type": "display_data"
    }
   ],
   "source": [
    "VGridWidget(vgrid_spec = generate_spec([\n",
    "    faces_ism, bernie, hosts, bernie_with_host_segments, bernie_alone_segments, \n",
    "    interviews]))"
   ]
  },
  {
   "cell_type": "markdown",
   "metadata": {},
   "source": [
    "# Congratulations!\n",
    "\n",
    "You've now written a pretty complex Rekall query to detect interviews with Bernie Sanders - and if you switched out his name with someone else, you could detect their interviews too! Next we'll move on to the empty parking space tutorial."
   ]
  }
 ],
 "metadata": {
  "kernelspec": {
   "display_name": "Python 3",
   "language": "python",
   "name": "python3"
  },
  "language_info": {
   "codemirror_mode": {
    "name": "ipython",
    "version": 3
   },
   "file_extension": ".py",
   "mimetype": "text/x-python",
   "name": "python",
   "nbconvert_exporter": "python",
   "pygments_lexer": "ipython3",
   "version": "3.7.3"
  }
 },
 "nbformat": 4,
 "nbformat_minor": 2
}
